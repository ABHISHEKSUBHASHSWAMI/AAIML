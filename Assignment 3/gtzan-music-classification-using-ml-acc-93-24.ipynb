{
 "cells": [
  {
   "cell_type": "markdown",
   "id": "080c3cf1",
   "metadata": {},
   "source": [
    "# Music Genre Classification using Machine Learning"
   ]
  },
  {
   "cell_type": "code",
   "execution_count": null,
   "id": "49f9b049",
   "metadata": {},
   "outputs": [],
   "source": [
    "import warnings\n",
    "import numpy as np\n",
    "import pandas as pd\n",
    "import matplotlib.pyplot as plt\n",
    "import seaborn as sns\n",
    "import librosa\n",
    "import librosa.display\n",
    "from sklearn.preprocessing import LabelEncoder, StandardScaler, minmax_scale\n",
    "from sklearn.model_selection import train_test_split, RandomizedSearchCV\n",
    "from sklearn.svm import SVC\n",
    "from sklearn.tree import DecisionTreeClassifier\n",
    "from sklearn.ensemble import RandomForestClassifier\n",
    "from sklearn.neighbors import KNeighborsClassifier\n",
    "from sklearn.metrics import accuracy_score\n",
    "from keras.models import Sequential\n",
    "from keras.layers import Dense, Dropout\n",
    "from keras.optimizers import Adam\n",
    "from scipy.stats import loguniform, randint\n",
    "with warnings.catch_warnings():\n",
    "    warnings.simplefilter(\"ignore\")\n",
    "\n",
    "# Set up the aesthetics for seaborn plots\n",
    "sns.set(style=\"whitegrid\")\n",
    "\n",
    "# Ensure that plots are displayed in the Jupyter Notebook\n",
    "%matplotlib inline"
   ]
  },
  {
   "cell_type": "code",
   "execution_count": null,
   "id": "5ec9f104",
   "metadata": {},
   "outputs": [],
   "source": [
    "audio_path = 'Data/genres/pop/pop.00000.wav'\n",
    "audio, sr = librosa.load(audio_path)"
   ]
  },
  {
   "cell_type": "code",
   "execution_count": null,
   "id": "a13b7899",
   "metadata": {},
   "outputs": [],
   "source": [
    "plt.figure(figsize=(14, 5))\n",
    "librosa.display.waveshow(audio, sr=sr)\n",
    "plt.xlabel('Time (samples)')\n",
    "plt.ylabel('Amplitude')\n",
    "plt.title('The first sample track from the pop music folder')\n",
    "plt.xlim([0,30])\n",
    "plt.show()"
   ]
  },
  {
   "cell_type": "code",
   "execution_count": null,
   "id": "2954cf6e",
   "metadata": {},
   "outputs": [],
   "source": [
    "chroma_stft = librosa.feature.chroma_stft(y=audio, sr=sr)\n",
    "\n",
    "plt.figure(figsize=(14, 5))\n",
    "librosa.display.specshow(chroma_stft, x_axis='time', y_axis='chroma', sr=sr)\n",
    "plt.colorbar()\n",
    "plt.xlabel('Time (s)')\n",
    "plt.ylabel('Pitch Class')\n",
    "plt.title('Chroma STFT')\n",
    "plt.show()"
   ]
  },
  {
   "cell_type": "code",
   "execution_count": null,
   "id": "d3ea49bf",
   "metadata": {},
   "outputs": [],
   "source": [
    "rms = librosa.feature.rms(y=audio)\n",
    "rms_mean = rms.mean()\n",
    "\n",
    "print(\"RMS Mean:\", rms_mean)"
   ]
  },
  {
   "cell_type": "code",
   "execution_count": null,
   "id": "d8fa5967",
   "metadata": {},
   "outputs": [],
   "source": [
    "spectral_centroids = librosa.feature.spectral_centroid(y=audio, sr=sr)\n",
    "spectral_centroids_mean = spectral_centroids.mean()\n",
    "\n",
    "print(\"Spectral Centroid Mean:\", spectral_centroids_mean)"
   ]
  },
  {
   "cell_type": "code",
   "execution_count": null,
   "id": "4b264342",
   "metadata": {},
   "outputs": [],
   "source": [
    "# Calculate the spectral centroids\n",
    "spectral_centroids = librosa.feature.spectral_centroid(y=audio, sr=sr)\n",
    "\n",
    "# Computing the time variable for visualization\n",
    "frames = range(len(spectral_centroids[0]))\n",
    "t = librosa.frames_to_time(frames, sr=sr)\n",
    "\n",
    "# Function that normalizes the Sound Data\n",
    "def normalize(x, axis=0):\n",
    "    return minmax_scale(x, axis=axis)\n",
    "\n",
    "# Use a stylish plot theme\n",
    "plt.style.use('seaborn-dark-palette')\n",
    "\n",
    "# Plotting the Spectral Centroid along the waveform\n",
    "plt.figure(figsize=(16, 6))\n",
    "ax = plt.axes()\n",
    "ax.set_facecolor('#202020')  # Set a dark background color\n",
    "\n",
    "# Waveform plot\n",
    "librosa.display.waveshow(audio, sr=sr, alpha=0.6, color='#1DB954', linewidth=1.5, label='Waveform')\n",
    "\n",
    "# Spectral centroids plot\n",
    "plt.plot(t, normalize(spectral_centroids[0]), color='#FFC300', linewidth=2, label='Normalized Spectral Centroids')\n",
    "\n",
    "# Enhancing the plot\n",
    "plt.title('Waveform and Normalized Spectral Centroids', fontsize=16, fontweight='bold', color='white')\n",
    "plt.xlabel('Time (seconds)', fontsize=14, color='white')\n",
    "plt.ylabel('Normalized Amplitude / Frequency', fontsize=14, color='white')\n",
    "plt.legend()\n",
    "plt.grid(True, linestyle='--', linewidth=0.5)\n",
    "plt.xticks(fontsize=12, color='white')\n",
    "plt.yticks(fontsize=12, color='white')\n",
    "\n",
    "# Show the plot\n",
    "plt.show()"
   ]
  },
  {
   "cell_type": "code",
   "execution_count": null,
   "id": "a41c2f67",
   "metadata": {},
   "outputs": [],
   "source": [
    "spectral_bandwidths = librosa.feature.spectral_bandwidth(y=audio, sr=sr)\n",
    "spectral_bandwidths_mean = spectral_bandwidths.mean()\n",
    "\n",
    "print(\"Spectral Bandwidth Mean:\", spectral_bandwidths_mean)"
   ]
  },
  {
   "cell_type": "code",
   "execution_count": null,
   "id": "3e54de23",
   "metadata": {},
   "outputs": [],
   "source": [
    "spectral_rolloff = librosa.feature.spectral_rolloff(y=audio, sr=sr)\n",
    "spectral_rolloff_mean = spectral_rolloff.mean()\n",
    "\n",
    "print(\"Spectral Rolloff Mean:\", spectral_rolloff_mean)"
   ]
  },
  {
   "cell_type": "code",
   "execution_count": null,
   "id": "8e616fab",
   "metadata": {},
   "outputs": [],
   "source": [
    "# Computing the time variable for visualization\n",
    "frames = range(len(spectral_rolloff [0]))\n",
    "t = librosa.frames_to_time(frames, sr=sr)\n",
    "\n",
    "# Function that normalizes the Sound Data\n",
    "def normalize(x, axis=0):\n",
    "    return minmax_scale(x, axis=axis)\n",
    "\n",
    "# Use a stylish plot theme\n",
    "plt.style.use('seaborn-dark-palette')\n",
    "\n",
    "# Plotting the spectral_rolloff along the waveform\n",
    "plt.figure(figsize=(16, 6))\n",
    "ax = plt.axes()\n",
    "ax.set_facecolor('#202020')  # Set a dark background color\n",
    "\n",
    "# Waveform plot\n",
    "librosa.display.waveshow(audio, sr=sr, alpha=0.6, color='#1DB954', linewidth=1.5, label='Waveform')\n",
    "\n",
    "# chroma_cens plot\n",
    "plt.plot(t, normalize(spectral_rolloff[0]), color='#FFC300', linewidth=2, label='Normalized spectral_rolloff')\n",
    "\n",
    "# Enhancing the plot\n",
    "plt.title('Waveform and Normalized spectral_rolloff', fontsize=16, fontweight='bold', color='white')\n",
    "plt.xlabel('Time (seconds)', fontsize=14, color='white')\n",
    "plt.ylabel('Normalized Amplitude / Frequency', fontsize=14, color='white')\n",
    "plt.legend()\n",
    "plt.grid(True, linestyle='--', linewidth=0.5)\n",
    "plt.xticks(fontsize=12, color='white')\n",
    "plt.yticks(fontsize=12, color='white')\n",
    "\n",
    "# Show the plot\n",
    "plt.show()"
   ]
  },
  {
   "cell_type": "code",
   "execution_count": null,
   "id": "76b42543",
   "metadata": {},
   "outputs": [],
   "source": [
    "zero_crossing_rates = librosa.feature.zero_crossing_rate(y=audio)\n",
    "zero_crossing_rates_mean = zero_crossing_rates.mean()\n",
    "\n",
    "print(\"Zero-Crossing Rate Mean:\", zero_crossing_rates_mean)"
   ]
  },
  {
   "cell_type": "code",
   "execution_count": null,
   "id": "e07200ec",
   "metadata": {},
   "outputs": [],
   "source": [
    "chroma_cens = librosa.feature.chroma_cens(y=audio, sr=sr)\n",
    "harmony_mean = chroma_cens.mean()\n",
    "\n",
    "print(\"Harmony Mean:\", harmony_mean)"
   ]
  },
  {
   "cell_type": "code",
   "execution_count": null,
   "id": "af5dc448",
   "metadata": {},
   "outputs": [],
   "source": [
    "# Computing the time variable for visualization\n",
    "frames = range(len(chroma_cens[0]))\n",
    "t = librosa.frames_to_time(frames, sr=sr)\n",
    "\n",
    "# Function that normalizes the Sound Data\n",
    "def normalize(x, axis=0):\n",
    "    return minmax_scale(x, axis=axis)\n",
    "\n",
    "# Use a stylish plot theme\n",
    "plt.style.use('seaborn-dark-palette')\n",
    "\n",
    "# Plotting the Spectral Centroid along the waveform\n",
    "plt.figure(figsize=(16, 6))\n",
    "ax = plt.axes()\n",
    "ax.set_facecolor('#202020')  # Set a dark background color\n",
    "\n",
    "# Waveform plot\n",
    "librosa.display.waveshow(audio, sr=sr, alpha=0.6, color='#1DB954', linewidth=1.5, label='Waveform')\n",
    "\n",
    "# chroma_cens plot\n",
    "plt.plot(t, normalize(chroma_cens[0]), color='#FFC300', linewidth=2, label='Normalized chroma_cens')\n",
    "\n",
    "# Enhancing the plot\n",
    "plt.title('Waveform and Normalized chroma_cens', fontsize=16, fontweight='bold', color='white')\n",
    "plt.xlabel('Time (seconds)', fontsize=14, color='white')\n",
    "plt.ylabel('Normalized Amplitude / Frequency', fontsize=14, color='white')\n",
    "plt.legend()\n",
    "plt.grid(True, linestyle='--', linewidth=0.5)\n",
    "plt.xticks(fontsize=12, color='white')\n",
    "plt.yticks(fontsize=12, color='white')\n",
    "\n",
    "# Show the plot\n",
    "plt.show()"
   ]
  },
  {
   "cell_type": "code",
   "execution_count": null,
   "id": "63428469",
   "metadata": {},
   "outputs": [],
   "source": [
    "tempo, _ = librosa.beat.beat_track(y=audio, sr=sr)\n",
    "tempo_mean = tempo.mean()\n",
    "\n",
    "print(\"Tempo Mean (BPM):\", tempo_mean)"
   ]
  },
  {
   "cell_type": "code",
   "execution_count": null,
   "id": "4b14f0e0",
   "metadata": {},
   "outputs": [],
   "source": [
    "# Compute MFCCs\n",
    "mfccs = librosa.feature.mfcc(y=audio, sr=sr)\n",
    "\n",
    "# Apply Feature Scaling\n",
    "mfccs = sklearn.preprocessing.scale(mfccs, axis=1)\n",
    "\n",
    "# Plot MFCCs\n",
    "plt.figure(figsize=(10, 4))\n",
    "librosa.display.specshow(mfccs, x_axis='time', cmap='coolwarm')\n",
    "plt.colorbar(format='%+2.0f dB')\n",
    "plt.title('MFCC')\n",
    "plt.xlabel('Time')\n",
    "plt.ylabel('MFCC Coefficients')\n",
    "plt.tight_layout()\n",
    "plt.show()"
   ]
  },
  {
   "cell_type": "code",
   "execution_count": null,
   "id": "7c92754d",
   "metadata": {},
   "outputs": [],
   "source": [
    "df = pd.read_csv('C:/Users/admin/Desktop/MLPracticing/music_genre_classificaion/features_3_sec.csv')"
   ]
  },
  {
   "cell_type": "code",
   "execution_count": null,
   "id": "3526bccf",
   "metadata": {
    "scrolled": true
   },
   "outputs": [],
   "source": [
    "df.head()"
   ]
  },
  {
   "cell_type": "code",
   "execution_count": null,
   "id": "4aaa180b",
   "metadata": {},
   "outputs": [],
   "source": [
    "df.shape\n"
   ]
  },
  {
   "cell_type": "code",
   "execution_count": null,
   "id": "63c8b67c",
   "metadata": {},
   "outputs": [],
   "source": [
    "df = df.drop('filename', axis = 1)"
   ]
  },
  {
   "cell_type": "code",
   "execution_count": null,
   "id": "71a945b2",
   "metadata": {},
   "outputs": [],
   "source": [
    "mean_columns = df.filter(regex='_mean$')\n",
    "\n",
    "correlation_matrix = mean_columns.corr()\n",
    "\n",
    "# Create a boolean mask for the upper triangle of the matrix\n",
    "mask = np.triu(np.ones_like(correlation_matrix, dtype=bool))\n",
    "\n",
    "# Set up the matplotlib figure\n",
    "plt.figure(figsize=(12, 10))\n",
    "\n",
    "# Generate a custom diverging colormap\n",
    "cmap = sns.diverging_palette(230, 20, as_cmap=True)\n",
    "\n",
    "# Draw the heatmap with the mask and correct aspect ratio\n",
    "sns.heatmap(correlation_matrix, mask=mask, cmap=cmap, annot=False, linewidths=0,\n",
    "            cbar_kws={\"shrink\": .5}, square=True)\n",
    "\n",
    "# Add a title to the heatmap\n",
    "plt.title('Correlation Heatmap of Mean Features', fontsize=16, fontweight='bold')\n",
    "\n",
    "# Show the plot\n",
    "plt.show()"
   ]
  },
  {
   "cell_type": "markdown",
   "id": "4a4e2304",
   "metadata": {},
   "source": [
    "### Box Plot for Genres Distributions"
   ]
  },
  {
   "cell_type": "code",
   "execution_count": null,
   "id": "89aa4627",
   "metadata": {},
   "outputs": [],
   "source": [
    "# Subset the DataFrame to include only the 'label' and 'tempo' columns\n",
    "x = df[[\"label\", \"tempo\"]]\n",
    "\n",
    "# Create the plot\n",
    "f, ax = plt.subplots(figsize=(16, 9))\n",
    "sns.boxplot(x=\"label\", y=\"tempo\", data=x, palette='husl')\n",
    "\n",
    "# Styling the plot with titles and labels\n",
    "plt.title('BPM Boxplot for Genres', fontsize=25, fontweight='bold')\n",
    "plt.xlabel(\"Genre\", fontsize=15)\n",
    "plt.ylabel(\"BPM\", fontsize=15)\n",
    "\n",
    "# Setting the font size for x and y ticks for better readability\n",
    "plt.xticks(fontsize=14)\n",
    "plt.yticks(fontsize=14)\n",
    "\n",
    "# Show the plot\n",
    "plt.show()"
   ]
  },
  {
   "cell_type": "code",
   "execution_count": null,
   "id": "931b8508",
   "metadata": {},
   "outputs": [],
   "source": [
    "X = df.iloc[:,:-1]\n",
    "y = df.iloc[:,-1]\n",
    "\n",
    "X_train, X_test, y_train, y_test = train_test_split(X,y,test_size = 0.2, random_state = 42)\n"
   ]
  },
  {
   "cell_type": "code",
   "execution_count": null,
   "id": "6eec2bc9",
   "metadata": {},
   "outputs": [],
   "source": [
    "labelencoder = LabelEncoder()\n",
    "\n",
    "y_train = labelencoder.fit_transform(y_train)\n",
    "y_test = labelencoder.transform(y_test)\n"
   ]
  },
  {
   "cell_type": "code",
   "execution_count": null,
   "id": "873e9c08",
   "metadata": {},
   "outputs": [],
   "source": [
    "len(labelencoder.classes_)"
   ]
  },
  {
   "cell_type": "code",
   "execution_count": null,
   "id": "1d3b65eb",
   "metadata": {},
   "outputs": [],
   "source": [
    "scaler = StandardScaler()\n",
    "X_train = scaler.fit_transform(X_train)\n",
    "X_test = scaler.transform(X_test)"
   ]
  },
  {
   "cell_type": "code",
   "execution_count": null,
   "id": "5b4358eb",
   "metadata": {},
   "outputs": [],
   "source": [
    "# Define the parameter distribution for SVM\n",
    "param_dist_svm = {\n",
    "    'C': loguniform(1e-4, 1e+1),  # Narrower range for C\n",
    "    'kernel': ['linear', 'rbf'],  # Only linear and RBF kernels\n",
    "    # 'gamma': loguniform(1e-4, 1e-3)  # Consider removing if using a linear kernel\n",
    "}\n",
    "\n",
    "# Create the SVM classifier and randomized search object\n",
    "svm = SVC(random_state=42)\n",
    "random_search_svm = RandomizedSearchCV(\n",
    "    svm, param_distributions=param_dist_svm, n_iter=50,  # Reduced number of iterations\n",
    "    scoring='accuracy', n_jobs=-1, random_state=42  # Use all available cores\n",
    ")\n",
    "\n",
    "# Fit the randomized search to the data\n",
    "random_search_svm.fit(X_train, y_train)\n",
    "\n",
    "# Evaluate the SVM model with the best parameters on the test set\n",
    "best_svm = random_search_svm.best_estimator_\n",
    "y_pred_svm = best_svm.predict(X_test)\n",
    "test_accuracy_svm = accuracy_score(y_test, y_pred_svm)\n",
    "\n",
    "# Evaluate the SVM model on the training set\n",
    "y_train_pred_svm = best_svm.predict(X_train)\n",
    "train_accuracy_svm = accuracy_score(y_train, y_train_pred_svm)\n",
    "\n",
    "print(\"Train SVM Accuracy:\", train_accuracy_svm)\n",
    "print(\"Test SVM Accuracy:\", test_accuracy_svm)"
   ]
  },
  {
   "cell_type": "code",
   "execution_count": null,
   "id": "2692fb79",
   "metadata": {},
   "outputs": [],
   "source": [
    "# Define the parameter distribution for Decision Tree\n",
    "param_dist_dt = {\n",
    "    'max_depth': randint(1, 51),  # Integer range [1, 50]\n",
    "    'min_samples_split': randint(2, 11),  # Integer range [2, 10]\n",
    "    'min_samples_leaf': randint(1, 11),  # Integer range [1, 10]\n",
    "    'criterion': ['gini', 'entropy'],  # Categorical\n",
    "    # Consider adding 'max_leaf_nodes': randint(2, 50) for additional pruning\n",
    "}\n",
    "\n",
    "# Create the Decision Tree classifier and randomized search object\n",
    "dt = DecisionTreeClassifier(random_state=42)\n",
    "random_search_dt = RandomizedSearchCV(\n",
    "    dt, param_distributions=param_dist_dt, n_iter=50,  # Reduced number of iterations\n",
    "    scoring='accuracy', n_jobs=-1, random_state=42  # Use all available cores\n",
    ")\n",
    "\n",
    "# Fit the randomized search to the data\n",
    "random_search_dt.fit(X_train, y_train)\n",
    "\n",
    "# Evaluate the Decision Tree model with the best parameters on the test set\n",
    "best_dt = random_search_dt.best_estimator_\n",
    "y_pred_dt = best_dt.predict(X_test)\n",
    "test_accuracy_dt = accuracy_score(y_test, y_pred_dt)\n",
    "\n",
    "# Evaluate the Decision Tree model on the training set\n",
    "y_train_pred_dt = best_dt.predict(X_train)\n",
    "train_accuracy_dt = accuracy_score(y_train, y_train_pred_dt)\n",
    "\n",
    "print(\"Train DT Accuracy:\", train_accuracy_dt)\n",
    "print(\"Test DT Accuracy:\", test_accuracy_dt)"
   ]
  },
  {
   "cell_type": "code",
   "execution_count": null,
   "id": "23b95fdf",
   "metadata": {
    "collapsed": true,
    "jupyter": {
     "outputs_hidden": true
    }
   },
   "outputs": [],
   "source": [
    "# Define the parameter distribution for Random Forest\n",
    "param_dist_rf = {\n",
    "    'n_estimators': randint(10, 101),  # Reduced upper limit for faster computation\n",
    "    'max_features': ['auto', 'sqrt'],  # Simplified choice of max features\n",
    "    'max_depth': randint(1, 31),  # Controlled tree depth\n",
    "    'min_samples_split': randint(2, 11),\n",
    "    'min_samples_leaf': randint(1, 11),\n",
    "    'bootstrap': [True]  # Consistent use of bootstrapping\n",
    "}\n",
    "\n",
    "# Create the Random Forest classifier and randomized search object\n",
    "rf = RandomForestClassifier(random_state=42)\n",
    "random_search_rf = RandomizedSearchCV(\n",
    "    rf, param_distributions=param_dist_rf, n_iter=50,  # Optimized iteration count\n",
    "    scoring='accuracy', n_jobs=-1, random_state=42  # Efficient resource usage\n",
    ")\n",
    "\n",
    "# Fit the randomized search to the data\n",
    "random_search_rf.fit(X_train, y_train)\n",
    "\n",
    "# Evaluate the Random Forest model with the best parameters on the test set\n",
    "best_rf = random_search_rf.best_estimator_\n",
    "y_pred_rf = best_rf.predict(X_test)\n",
    "test_accuracy_rf = accuracy_score(y_test, y_pred_rf)\n",
    "\n",
    "# Evaluate the Random Forest model on the training set\n",
    "y_train_pred_rf = best_rf.predict(X_train)\n",
    "train_accuracy_rf = accuracy_score(y_train, y_train_pred_rf)\n",
    "\n",
    "print(\"Train RF Accuracy:\", train_accuracy_rf)\n",
    "print(\"Test RF Accuracy:\", test_accuracy_rf)"
   ]
  },
  {
   "cell_type": "code",
   "execution_count": null,
   "id": "f3ab788f",
   "metadata": {},
   "outputs": [],
   "source": [
    "# Define the parameter grid for the random search\n",
    "param_grid = {\n",
    "    'n_neighbors': randint(1, 15),  # Number of neighbors\n",
    "    'weights': ['uniform', 'distance'],  # Weight function\n",
    "    'p': [1, 2]  # Power parameter for the Minkowski distance metric\n",
    "}\n",
    "\n",
    "# Create the KNN classifier\n",
    "knn = KNeighborsClassifier()\n",
    "\n",
    "# Perform the random search\n",
    "random_search_knn = RandomizedSearchCV(\n",
    "    knn, param_distributions=param_grid, n_iter=10, cv=5, random_state=42\n",
    ")\n",
    "random_search_knn.fit(X_train, y_train)\n",
    "\n",
    "# Evaluate the KNN model with the best parameters on the test set\n",
    "best_knn = random_search_knn.best_estimator_\n",
    "y_pred_knn = best_knn.predict(X_test)\n",
    "test_accuracy_knn = accuracy_score(y_test, y_pred_knn)\n",
    "\n",
    "# Evaluate the KNN model on the training set\n",
    "y_train_pred_knn = best_knn.predict(X_train)\n",
    "train_accuracy_knn = accuracy_score(y_train, y_train_pred_knn)\n",
    "\n",
    "print(\"Train KNN Accuracy:\", train_accuracy_knn)\n",
    "print(\"Test KNN Accuracy:\", test_accuracy_knn)"
   ]
  },
  {
   "cell_type": "code",
   "execution_count": null,
   "id": "250b79bb",
   "metadata": {},
   "outputs": [],
   "source": [
    "# Define the model architecture\n",
    "model = Sequential()\n",
    "model.add(Dense(units=256, activation='relu', input_dim=X_train.shape[1]))\n",
    "model.add(Dropout(0.2))\n",
    "model.add(Dense(units=256, activation='relu'))\n",
    "model.add(Dropout(0.2))\n",
    "model.add(Dense(units=256, activation='relu'))\n",
    "model.add(Dropout(0.2))\n",
    "model.add(Dense(units=256, activation='relu'))\n",
    "model.add(Dropout(0.2))\n",
    "model.add(Dense(units=len(np.unique(y_train)), activation='softmax'))  # Adjusted to use np.unique for flexibility\n",
    "\n",
    "# Compile the model\n",
    "model.compile(optimizer=Adam(), loss='sparse_categorical_crossentropy', metrics=['accuracy'])\n",
    "\n",
    "# Fit the model\n",
    "history = model.fit(X_train, y_train, epochs=100, batch_size=32, verbose=1, validation_data=(X_test, y_test))\n",
    "\n",
    "# Retrieve training and validation accuracy\n",
    "train_accuracy = history.history['accuracy'][-1]  # Last epoch accuracy\n",
    "val_accuracy = history.history['val_accuracy'][-1]  # Last epoch validation accuracy\n",
    "\n",
    "# Predict on test set\n",
    "y_pred = model.predict(X_test)\n",
    "y_pred_labels = np.argmax(y_pred, axis=1)\n",
    "\n",
    "# Calculate test accuracy\n",
    "test_accuracy = accuracy_score(y_test, y_pred_labels)\n",
    "\n",
    "# Print accuracies\n",
    "print('Training accuracy:', train_accuracy)\n",
    "print('Validation accuracy:', val_accuracy)\n",
    "print('Test accuracy:', test_accuracy)\n"
   ]
  },
  {
   "cell_type": "markdown",
   "id": "b756411a",
   "metadata": {},
   "source": [
    "<div style=\"height: 8px; background: linear-gradient(to right, orange, red); border-radius: 4px;\"></div>\n",
    "\n",
    "## Final Results\n",
    "\n",
    "With 93.24% test accuracy, The KNN model shows the highest test accuracy and superior generalization compared to other models.\n",
    "\n",
    "\n",
    "\n",
    "<table style=\"width:100%; font-size:12px;\">\n",
    "  <tr>\n",
    "    <th style=\"background-color: #f2f2f2; color: black;\">Model</th>\n",
    "    <th style=\"background-color: #f2f2f2; color: black;\">Training Accuracy</th>\n",
    "    <th style=\"background-color: #f2f2f2; color: black;\">Test Accuracy</th>\n",
    "  </tr>\n",
    "  <tr>\n",
    "    <td>SVM</td>\n",
    "    <td>99.50%</td>\n",
    "    <td>93.09%</td>\n",
    "  </tr>\n",
    "  <tr>\n",
    "    <td>Decision Tree</td>\n",
    "    <td>95.68%</td>\n",
    "    <td>66.77%</td>\n",
    "  </tr>\n",
    "  <tr>\n",
    "    <td>Random Forest</td>\n",
    "    <td>99.65%</td>\n",
    "    <td>85.09%</td>\n",
    "  </tr>\n",
    "  <tr style=\"color: white; background-color: #4CAF50;\">\n",
    "    <td><strong>KNN</strong></td>\n",
    "    <td><strong>99.92%</strong></td>\n",
    "    <td><strong>93.24%</strong></td>\n",
    "  </tr>\n",
    "  <tr>\n",
    "    <td>ANN</td>\n",
    "    <td>98.59%</td>\n",
    "    <td>92.24%</td>\n",
    "  </tr>\n",
    "</table>"
   ]
  }
 ],
 "metadata": {
  "kernelspec": {
   "display_name": "Python 3 (ipykernel)",
   "language": "python",
   "name": "python3"
  },
  "language_info": {
   "codemirror_mode": {
    "name": "ipython",
    "version": 3
   },
   "file_extension": ".py",
   "mimetype": "text/x-python",
   "name": "python",
   "nbconvert_exporter": "python",
   "pygments_lexer": "ipython3",
   "version": "3.9.9"
  },
  "varInspector": {
   "cols": {
    "lenName": 16,
    "lenType": 16,
    "lenVar": 40
   },
   "kernels_config": {
    "python": {
     "delete_cmd_postfix": "",
     "delete_cmd_prefix": "del ",
     "library": "var_list.py",
     "varRefreshCmd": "print(var_dic_list())"
    },
    "r": {
     "delete_cmd_postfix": ") ",
     "delete_cmd_prefix": "rm(",
     "library": "var_list.r",
     "varRefreshCmd": "cat(var_dic_list()) "
    }
   },
   "types_to_exclude": [
    "module",
    "function",
    "builtin_function_or_method",
    "instance",
    "_Feature"
   ],
   "window_display": false
  }
 },
 "nbformat": 4,
 "nbformat_minor": 5
}
